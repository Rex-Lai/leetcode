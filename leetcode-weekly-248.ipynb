{
 "cells": [
  {
   "cell_type": "code",
   "execution_count": 2,
   "id": "8aa4a485-44f7-4deb-9723-b30beae9f800",
   "metadata": {},
   "outputs": [
    {
     "name": "stdout",
     "output_type": "stream",
     "text": [
      "[0, 1, 2, 4, 5, 3]\n",
      "[4, 5, 0, 1, 2, 3]\n"
     ]
    }
   ],
   "source": [
    "# https://leetcode.com/contest/weekly-contest-248/problems/build-array-from-permutation/\n",
    "def buildArray(nums):\n",
    "    result = []\n",
    "    for i in nums:\n",
    "        result.append(nums[i])\n",
    "    return result\n",
    "print(buildArray(nums = [0,2,1,5,3,4]))\n",
    "print(buildArray([5,0,1,2,3,4]))"
   ]
  },
  {
   "cell_type": "code",
   "execution_count": null,
   "id": "aa796cc2-334c-4a80-bb4f-d26c9ea0076a",
   "metadata": {},
   "outputs": [],
   "source": []
  }
 ],
 "metadata": {
  "kernelspec": {
   "display_name": "Python 3",
   "language": "python",
   "name": "python3"
  },
  "language_info": {
   "codemirror_mode": {
    "name": "ipython",
    "version": 3
   },
   "file_extension": ".py",
   "mimetype": "text/x-python",
   "name": "python",
   "nbconvert_exporter": "python",
   "pygments_lexer": "ipython3",
   "version": "3.8.8"
  }
 },
 "nbformat": 4,
 "nbformat_minor": 5
}
