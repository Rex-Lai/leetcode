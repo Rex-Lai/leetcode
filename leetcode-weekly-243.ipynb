{
 "cells": [
  {
   "cell_type": "code",
   "execution_count": 11,
   "id": "01a46889-f09f-4599-9983-1ec2d36f1270",
   "metadata": {},
   "outputs": [
    {
     "name": "stdout",
     "output_type": "stream",
     "text": [
      "True\n"
     ]
    }
   ],
   "source": [
    "# https://leetcode.com/contest/weekly-contest-243/problems/check-if-word-equals-summation-of-two-words/\n",
    "def isSumEqual(firstWord, secondWord, targetWord):\n",
    "    if int(getValue(firstWord)) + int(getValue(secondWord)) == int(getValue(targetWord)):\n",
    "        return True\n",
    "    else:\n",
    "        return False\n",
    "    \n",
    "def getValue(word):\n",
    "    result = ''\n",
    "    for c in word:\n",
    "        result += str(ord(c)-97)\n",
    "    return result\n",
    "print(isSumEqual('acb','cba','cdb'))"
   ]
  },
  {
   "cell_type": "code",
   "execution_count": 35,
   "id": "9a8cb10d-4e07-4631-98a0-29eeb22c4733",
   "metadata": {},
   "outputs": [
    {
     "name": "stdout",
     "output_type": "stream",
     "text": [
      "-1323\n"
     ]
    }
   ],
   "source": [
    "# https://leetcode.com/contest/weekly-contest-243/problems/maximum-value-after-insertion/\n",
    "def maxValue(n, x):\n",
    "    for idx in range(len(n)):\n",
    "        if n[0] == '-':\n",
    "            if idx == 0:\n",
    "                continue\n",
    "            if int(n[idx]) > x:\n",
    "                return n[:idx] + str(x) + n[idx:]\n",
    "        else:\n",
    "            if int(n[idx]) < x:\n",
    "                return n[:idx] + str(x) + n[idx:]\n",
    "                \n",
    "    return n + str(x)\n",
    "#print(maxValue('73', 9))\n",
    "print(maxValue('-132', 3))"
   ]
  },
  {
   "cell_type": "code",
   "execution_count": null,
   "id": "81331eef-e6b7-4060-939a-f093b0957cf3",
   "metadata": {},
   "outputs": [],
   "source": []
  }
 ],
 "metadata": {
  "kernelspec": {
   "display_name": "Python 3",
   "language": "python",
   "name": "python3"
  },
  "language_info": {
   "codemirror_mode": {
    "name": "ipython",
    "version": 3
   },
   "file_extension": ".py",
   "mimetype": "text/x-python",
   "name": "python",
   "nbconvert_exporter": "python",
   "pygments_lexer": "ipython3",
   "version": "3.8.8"
  }
 },
 "nbformat": 4,
 "nbformat_minor": 5
}
