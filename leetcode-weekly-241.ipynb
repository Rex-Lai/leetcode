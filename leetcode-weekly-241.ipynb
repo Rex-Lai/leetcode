{
 "cells": [
  {
   "cell_type": "code",
   "execution_count": 11,
   "metadata": {},
   "outputs": [
    {
     "name": "stdout",
     "output_type": "stream",
     "text": [
      "6\n",
      "28\n",
      "480\n"
     ]
    }
   ],
   "source": [
    "# https://leetcode.com/contest/weekly-contest-241/problems/sum-of-all-subset-xor-totals/\n",
    "from itertools import combinations\n",
    "from functools import reduce\n",
    "def subsetXORSum(nums):\n",
    "    result = 0\n",
    "    for i in range(1,len(nums)+1):\n",
    "        comb = combinations(nums, i)\n",
    "        for c in list(comb):\n",
    "            if len(c) > 1:\n",
    "                res = reduce(lambda x, y: x^y, list(c))\n",
    "            else:\n",
    "                res = c[0]\n",
    "            result += res\n",
    "    return result\n",
    "print(subsetXORSum([1,3]))\n",
    "print(subsetXORSum([5,1,6]))\n",
    "print(subsetXORSum([3,4,5,6,7,8]))"
   ]
  },
  {
   "cell_type": "code",
   "execution_count": null,
   "metadata": {},
   "outputs": [],
   "source": []
  }
 ],
 "metadata": {
  "kernelspec": {
   "display_name": "Python 3",
   "language": "python",
   "name": "python3"
  },
  "language_info": {
   "codemirror_mode": {
    "name": "ipython",
    "version": 3
   },
   "file_extension": ".py",
   "mimetype": "text/x-python",
   "name": "python",
   "nbconvert_exporter": "python",
   "pygments_lexer": "ipython3",
   "version": "3.6.5"
  }
 },
 "nbformat": 4,
 "nbformat_minor": 2
}
