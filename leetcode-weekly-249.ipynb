{
 "cells": [
  {
   "cell_type": "code",
   "execution_count": 4,
   "id": "7c7f887d-ec4c-4e24-bec4-ee14963b84e9",
   "metadata": {},
   "outputs": [
    {
     "name": "stdout",
     "output_type": "stream",
     "text": [
      "[1, 3, 2, 1, 1, 3, 2, 1]\n",
      "[1, 2, 1, 1, 2, 1]\n"
     ]
    }
   ],
   "source": [
    "# https://leetcode.com/contest/weekly-contest-249/problems/concatenation-of-array/\n",
    "def getConcatenation(nums):\n",
    "    result = []\n",
    "    result1 = []\n",
    "    for v in nums:\n",
    "        result.append(v)\n",
    "        result1.append(v)\n",
    "    result.extend(result1)\n",
    "    return result\n",
    "\n",
    "print(getConcatenation(nums = [1,3,2,1]))\n",
    "print(getConcatenation(nums = [1,2,1]))"
   ]
  },
  {
   "cell_type": "code",
   "execution_count": 10,
   "id": "783ad5fa-d179-4e36-910d-cdb2be956481",
   "metadata": {},
   "outputs": [
    {
     "name": "stdout",
     "output_type": "stream",
     "text": [
      "676\n"
     ]
    }
   ],
   "source": [
    "# https://leetcode.com/contest/weekly-contest-249/problems/unique-length-3-palindromic-subsequences/\n",
    "from itertools import combinations\n",
    "def countPalindromicSubsequence(s):\n",
    "    result = set()\n",
    "    strAry = []\n",
    "    strAry.extend(s)\n",
    "    comb = combinations(s, 3)\n",
    "    for c in list(comb):\n",
    "        str = ''.join(c)\n",
    "        if c[0] == c[2] and str not in result:\n",
    "            #print(c)\n",
    "            result.add(str)\n",
    "    return len(result)\n",
    "#print(countPalindromicSubsequence(s = \"aabca\"))\n",
    "print(countPalindromicSubsequence(\"nhzosdwmwomlebymvkbqbdohzdtpufnllwzhqptyffreebalphgsslryuqryloqxvbehtohdrsynmcbligczvoyzrhbtmqxepqmcjirwishyvoliizknzrokejtqtfoylsdzpgeooczxldvmsnhvzgojxnwwhukynvhhpzmdoiooliesogubtsvkrvzmanpwwlnlskremzisqwwwjistwabqxztlcqwlsxbuhjdnouecwqgxdlggauxrelipqlgvfkmgoozhzrhortbpmxhupjqqrsrvqxqilptchtedoznxvgvmuticzdzwszzujuanlrrpvycgawoxfbvxhkdyhmcxdlrtyktekcmkyajlywcrozjkedwlrqpaugdobtffwidxawddgeraaugiebtntmuncnybuwnlzbmkrmxbcpbhqoiznlpcswqtsflfilkclrjdxbvcctvopoidjrtwszpjpfrfcvjtouvzvpqayvgesiiawokdqatfkijsuocbeqrhrmlhtclhrmrbkpahfdgiatejsnvubwbaxwooskcaiuqvxcvgpnkiiiencnxjsvvgdfptreumttlyoqqwqdblhhbnilbvbwwpnmouxlvqimdbcxisnegllnejhkipuqbcrhsrxwipdjzskpyijuvrvtrnqljjefymfdcvcuvwaitdjevuvelkrglhtlnivmvjyzmhjnzvudgqwocvwhthxdlyfljabngzjayvqudhvsdslacgvosnchhbkulcxpangdlpgkrczbnnzokmqzgauitqutiboveumsqvbulhbfbynzogtejuwi\"))"
   ]
  },
  {
   "cell_type": "code",
   "execution_count": 44,
   "id": "6dd5182f-272c-439c-a5c1-970706168922",
   "metadata": {},
   "outputs": [
    {
     "name": "stdout",
     "output_type": "stream",
     "text": [
      "4\n"
     ]
    }
   ],
   "source": [
    "from collections import Counter\n",
    "from itertools import combinations\n",
    "def countPalindromicSubsequence(s):\n",
    "    strAry = []\n",
    "    strAry.extend(s)\n",
    "    o = Counter(strAry)\n",
    "    len_1 = {}\n",
    "    len_2 = {}\n",
    "    len_3 = {}\n",
    "    for k in o.keys():\n",
    "        if o[k] == 1:\n",
    "            len_1.update({k:o[k]})\n",
    "        if o[k] > 1:\n",
    "            len_2.update({k:o[k]})\n",
    "        if o[k] > 2:\n",
    "            len_3.update({k:o[k]})\n",
    "    if len(len_2) == 0 and len(len_3) == 0:\n",
    "        return 0\n",
    "    comb = combinations(len_2.keys(), 2)\n",
    "    return len(len_1) + len(len_3) + len(list(comb))*2\n",
    "#print(countPalindromicSubsequence(s = \"aabca\"))\n",
    "print(countPalindromicSubsequence(s = \"bbcbaba\"))\n",
    "print(countPalindromicSubsequence(\"nhzosdwmwomlebymvkbqbdohzdtpufnllwzhqptyffreebalphgsslryuqryloqxvbehtohdrsynmcbligczvoyzrhbtmqxepqmcjirwishyvoliizknzrokejtqtfoylsdzpgeooczxldvmsnhvzgojxnwwhukynvhhpzmdoiooliesogubtsvkrvzmanpwwlnlskremzisqwwwjistwabqxztlcqwlsxbuhjdnouecwqgxdlggauxrelipqlgvfkmgoozhzrhortbpmxhupjqqrsrvqxqilptchtedoznxvgvmuticzdzwszzujuanlrrpvycgawoxfbvxhkdyhmcxdlrtyktekcmkyajlywcrozjkedwlrqpaugdobtffwidxawddgeraaugiebtntmuncnybuwnlzbmkrmxbcpbhqoiznlpcswqtsflfilkclrjdxbvcctvopoidjrtwszpjpfrfcvjtouvzvpqayvgesiiawokdqatfkijsuocbeqrhrmlhtclhrmrbkpahfdgiatejsnvubwbaxwooskcaiuqvxcvgpnkiiiencnxjsvvgdfptreumttlyoqqwqdblhhbnilbvbwwpnmouxlvqimdbcxisnegllnejhkipuqbcrhsrxwipdjzskpyijuvrvtrnqljjefymfdcvcuvwaitdjevuvelkrglhtlnivmvjyzmhjnzvudgqwocvwhthxdlyfljabngzjayvqudhvsdslacgvosnchhbkulcxpangdlpgkrczbnnzokmqzgauitqutiboveumsqvbulhbfbynzogtejuwi\"))    "
   ]
  },
  {
   "cell_type": "code",
   "execution_count": 46,
   "id": "f644ff15-577b-4441-b762-78066f868073",
   "metadata": {},
   "outputs": [
    {
     "name": "stdout",
     "output_type": "stream",
     "text": [
      "{'n': [0, 816], 'h': [1, 811], 'z': [2, 817], 'o': [3, 818], 's': [4, 805], 'd': [5, 773], 'w': [6, 824], 'm': [7, 804], 'l': [11, 810], 'e': [12, 821], 'b': [13, 814], 'y': [14, 815], 'v': [16, 807], 'k': [17, 786], 'q': [19, 806], 't': [26, 820], 'p': [27, 775], 'u': [28, 823], 'f': [29, 813], 'r': [42, 778], 'a': [46, 791], 'g': [50, 819], 'x': [63, 768], 'c': [77, 779], 'i': [80, 825], 'j': [100, 822]}\n",
      "676\n"
     ]
    }
   ],
   "source": [
    "def countPalindromicSubsequence(s):    \n",
    "    d={}\n",
    "    for i,ch in enumerate(s):\n",
    "        if ch in d:\n",
    "            d[ch][1]=i\n",
    "        else:\n",
    "            d[ch]=[i,i]\n",
    "\n",
    "    answ=0\n",
    "    print(d)\n",
    "    for ch,(first,last) in d.items():\n",
    "        answ+=len(set(s[first+1:last]))\n",
    "    return answ\n",
    "print(countPalindromicSubsequence(\"nhzosdwmwomlebymvkbqbdohzdtpufnllwzhqptyffreebalphgsslryuqryloqxvbehtohdrsynmcbligczvoyzrhbtmqxepqmcjirwishyvoliizknzrokejtqtfoylsdzpgeooczxldvmsnhvzgojxnwwhukynvhhpzmdoiooliesogubtsvkrvzmanpwwlnlskremzisqwwwjistwabqxztlcqwlsxbuhjdnouecwqgxdlggauxrelipqlgvfkmgoozhzrhortbpmxhupjqqrsrvqxqilptchtedoznxvgvmuticzdzwszzujuanlrrpvycgawoxfbvxhkdyhmcxdlrtyktekcmkyajlywcrozjkedwlrqpaugdobtffwidxawddgeraaugiebtntmuncnybuwnlzbmkrmxbcpbhqoiznlpcswqtsflfilkclrjdxbvcctvopoidjrtwszpjpfrfcvjtouvzvpqayvgesiiawokdqatfkijsuocbeqrhrmlhtclhrmrbkpahfdgiatejsnvubwbaxwooskcaiuqvxcvgpnkiiiencnxjsvvgdfptreumttlyoqqwqdblhhbnilbvbwwpnmouxlvqimdbcxisnegllnejhkipuqbcrhsrxwipdjzskpyijuvrvtrnqljjefymfdcvcuvwaitdjevuvelkrglhtlnivmvjyzmhjnzvudgqwocvwhthxdlyfljabngzjayvqudhvsdslacgvosnchhbkulcxpangdlpgkrczbnnzokmqzgauitqutiboveumsqvbulhbfbynzogtejuwi\"))    "
   ]
  },
  {
   "cell_type": "code",
   "execution_count": null,
   "id": "eb0bb977-d0b5-439a-a5b2-cecf9ae63a7f",
   "metadata": {},
   "outputs": [],
   "source": []
  }
 ],
 "metadata": {
  "kernelspec": {
   "display_name": "Python 3",
   "language": "python",
   "name": "python3"
  },
  "language_info": {
   "codemirror_mode": {
    "name": "ipython",
    "version": 3
   },
   "file_extension": ".py",
   "mimetype": "text/x-python",
   "name": "python",
   "nbconvert_exporter": "python",
   "pygments_lexer": "ipython3",
   "version": "3.8.8"
  }
 },
 "nbformat": 4,
 "nbformat_minor": 5
}
