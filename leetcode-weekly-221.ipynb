{
 "cells": [
  {
   "cell_type": "code",
   "execution_count": 8,
   "metadata": {},
   "outputs": [
    {
     "name": "stdout",
     "output_type": "stream",
     "text": [
      "True Counter({'b': 1, 'o': 1}) Counter({'o': 1, 'k': 1})\n",
      "False Counter({'t': 2, 'e': 1, 'x': 1}) Counter({'o': 2, 'b': 1, 'k': 1})\n",
      "False Counter({'r': 2, 'm': 1, 'e': 1, 'y': 1, 'c': 1, 'h': 1}) Counter({'s': 2, 'r': 1, 'i': 1, 't': 1, 'm': 1, 'a': 1})\n",
      "True Counter({'a': 1, 'b': 1, 'c': 1, 'd': 1}) Counter({'e': 1, 'f': 1, 'g': 1, 'h': 1})\n"
     ]
    },
    {
     "data": {
      "text/plain": [
       "True"
      ]
     },
     "execution_count": 8,
     "metadata": {},
     "output_type": "execute_result"
    }
   ],
   "source": [
    "# https://leetcode.com/contest/weekly-contest-221/problems/determine-if-string-halves-are-alike/\n",
    "from collections import Counter\n",
    "def halvesAreAlike(s: str) -> bool:\n",
    "    half_len = int(len(s)/2)\n",
    "    str_a = s[:half_len]\n",
    "    str_b = s[half_len:]\n",
    "    #print(half_len, str_a, str_b)\n",
    "    result_a = Counter(str_a.lower())\n",
    "    result_b = Counter(str_b.lower())\n",
    "    cnt_a, cnt_b = 0, 0\n",
    "    for vowel in ['a','e','i','o','u']:\n",
    "        cnt_a += result_a[vowel]\n",
    "        cnt_b += result_b[vowel]\n",
    "    #print(cnt_a, cnt_b)\n",
    "    #print((cnt_a == cnt_b), result_a, result_b)\n",
    "    return (cnt_a == cnt_b)\n",
    "\n",
    "halvesAreAlike(\"book\")\n",
    "halvesAreAlike(\"textbook\")\n",
    "halvesAreAlike(\"MerryChristmas\")\n",
    "halvesAreAlike(\"AbCdEfGh\")"
   ]
  },
  {
   "cell_type": "code",
   "execution_count": null,
   "metadata": {},
   "outputs": [],
   "source": []
  }
 ],
 "metadata": {
  "kernelspec": {
   "display_name": "Python 3",
   "language": "python",
   "name": "python3"
  },
  "language_info": {
   "codemirror_mode": {
    "name": "ipython",
    "version": 3
   },
   "file_extension": ".py",
   "mimetype": "text/x-python",
   "name": "python",
   "nbconvert_exporter": "python",
   "pygments_lexer": "ipython3",
   "version": "3.7.6"
  }
 },
 "nbformat": 4,
 "nbformat_minor": 4
}
