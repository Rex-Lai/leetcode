{
 "metadata": {
  "language_info": {
   "codemirror_mode": {
    "name": "ipython",
    "version": 3
   },
   "file_extension": ".py",
   "mimetype": "text/x-python",
   "name": "python",
   "nbconvert_exporter": "python",
   "pygments_lexer": "ipython3",
   "version": "3.8.5"
  },
  "orig_nbformat": 2,
  "kernelspec": {
   "name": "python385jvsc74a57bd0d272e2026838bb335172dbce7a4df8d70283680680035739ed330613b545d8bd",
   "display_name": "Python 3.8.5 64-bit ('base': conda)"
  }
 },
 "nbformat": 4,
 "nbformat_minor": 2,
 "cells": [
  {
   "cell_type": "code",
   "execution_count": 9,
   "metadata": {},
   "outputs": [
    {
     "output_type": "stream",
     "name": "stdout",
     "text": [
      "3\n14\n0\n"
     ]
    }
   ],
   "source": [
    "# https://leetcode.com/contest/biweekly-contest-50/problems/minimum-operations-to-make-the-array-increasing/\n",
    "def minOperations(nums):\n",
    "    result = 0\n",
    "    if len(nums) == 1:\n",
    "        return result\n",
    "    for i in range(1, len(nums)):\n",
    "        if nums[i] > nums[i-1]:\n",
    "            continue\n",
    "        elif nums[i] == nums[i-1]:\n",
    "            nums[i] += 1\n",
    "            result += 1\n",
    "        else:\n",
    "            diff = nums[i-1] - nums[i] + 1\n",
    "            nums[i] += diff\n",
    "            result += diff\n",
    "    return result\n",
    "print(minOperations([1,1,1]))\n",
    "print(minOperations([1,5,2,4,1]))\n",
    "print(minOperations([8]))"
   ]
  },
  {
   "cell_type": "code",
   "execution_count": null,
   "metadata": {},
   "outputs": [],
   "source": []
  }
 ]
}