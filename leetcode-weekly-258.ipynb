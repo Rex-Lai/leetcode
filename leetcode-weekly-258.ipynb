{
 "cells": [
  {
   "cell_type": "code",
   "execution_count": 9,
   "metadata": {},
   "outputs": [
    {
     "name": "stdout",
     "output_type": "stream",
     "text": [
      "dcbaefd\n",
      "zxyxxe\n",
      "abcd\n"
     ]
    }
   ],
   "source": [
    "# https://leetcode.com/contest/weekly-contest-258/problems/reverse-prefix-of-word/\n",
    "def reversePrefix(word, ch):\n",
    "    prefix = word[0:4]\n",
    "    postfix = word[4:]\n",
    "    if ch in prefix:\n",
    "        prefix = ch + prefix[2] + prefix[1] + prefix[0]\n",
    "    #print(newprefix, postfix)\n",
    "    return prefix + postfix\n",
    "print(reversePrefix(\"abcdefd\", ch = \"d\"))\n",
    "print(reversePrefix(word = \"xyxzxe\", ch = \"z\"))\n",
    "print(reversePrefix(word = \"abcd\", ch = \"z\"))"
   ]
  },
  {
   "cell_type": "code",
   "execution_count": null,
   "metadata": {},
   "outputs": [],
   "source": []
  }
 ],
 "metadata": {
  "kernelspec": {
   "display_name": "Python 3",
   "language": "python",
   "name": "python3"
  },
  "language_info": {
   "codemirror_mode": {
    "name": "ipython",
    "version": 3
   },
   "file_extension": ".py",
   "mimetype": "text/x-python",
   "name": "python",
   "nbconvert_exporter": "python",
   "pygments_lexer": "ipython3",
   "version": "3.7.6"
  }
 },
 "nbformat": 4,
 "nbformat_minor": 4
}
