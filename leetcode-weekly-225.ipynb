{
 "cells": [
  {
   "cell_type": "code",
   "execution_count": 7,
   "metadata": {},
   "outputs": [
    {
     "name": "stdout",
     "output_type": "stream",
     "text": [
      "23:50\n",
      "09:39\n",
      "19:22\n"
     ]
    }
   ],
   "source": [
    "# https://leetcode.com/contest/weekly-contest-225/problems/latest-time-by-replacing-hidden-digits/\n",
    "def maximumTime(time):\n",
    "    result = []\n",
    "    idx = 0\n",
    "    for c in time:\n",
    "        if c == '?':\n",
    "            if idx == 0:\n",
    "                if time[1] != '?' and int(time[1]) > 3:\n",
    "                    result.append('1')\n",
    "                else:\n",
    "                    result.append('2')\n",
    "            elif idx == 1:\n",
    "                if result[idx-1] == '2':\n",
    "                    result.append('3')\n",
    "                else:\n",
    "                    result.append('9')\n",
    "            elif idx == 3:\n",
    "                result.append('5')\n",
    "            else:\n",
    "                result.append('9')\n",
    "        else:\n",
    "            result.append(c)\n",
    "        idx += 1\n",
    "    return ''.join(result)\n",
    "print(maximumTime(\"2?:?0\"))\n",
    "print(maximumTime(\"0?:3?\"))\n",
    "print(maximumTime(\"1?:22\"))"
   ]
  },
  {
   "cell_type": "code",
   "execution_count": null,
   "metadata": {},
   "outputs": [],
   "source": []
  }
 ],
 "metadata": {
  "kernelspec": {
   "display_name": "Python 3",
   "language": "python",
   "name": "python3"
  },
  "language_info": {
   "codemirror_mode": {
    "name": "ipython",
    "version": 3
   },
   "file_extension": ".py",
   "mimetype": "text/x-python",
   "name": "python",
   "nbconvert_exporter": "python",
   "pygments_lexer": "ipython3",
   "version": "3.7.6"
  }
 },
 "nbformat": 4,
 "nbformat_minor": 4
}
