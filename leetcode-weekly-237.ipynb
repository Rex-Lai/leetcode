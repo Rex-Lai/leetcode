{
 "metadata": {
  "language_info": {
   "codemirror_mode": {
    "name": "ipython",
    "version": 3
   },
   "file_extension": ".py",
   "mimetype": "text/x-python",
   "name": "python",
   "nbconvert_exporter": "python",
   "pygments_lexer": "ipython3",
   "version": "3.8.5"
  },
  "orig_nbformat": 2,
  "kernelspec": {
   "name": "python385jvsc74a57bd0d272e2026838bb335172dbce7a4df8d70283680680035739ed330613b545d8bd",
   "display_name": "Python 3.8.5 64-bit ('base': conda)"
  }
 },
 "nbformat": 4,
 "nbformat_minor": 2,
 "cells": [
  {
   "cell_type": "code",
   "execution_count": 2,
   "metadata": {},
   "outputs": [
    {
     "output_type": "stream",
     "name": "stdout",
     "text": [
      "True\n"
     ]
    }
   ],
   "source": [
    "# https://leetcode.com/contest/weekly-contest-237/problems/check-if-the-sentence-is-pangram/\n",
    "def checkIfPangram(sentence):\n",
    "    alphabet = set()\n",
    "    for c in sentence:\n",
    "        if c not in alphabet:\n",
    "            alphabet.update(c)\n",
    "        else:\n",
    "            continue\n",
    "    if len(alphabet) == 26:\n",
    "        return True\n",
    "    return False\n",
    "print(checkIfPangram(\"thequickbrownfoxjumpsoverthelazydog\"))"
   ]
  },
  {
   "cell_type": "code",
   "execution_count": 6,
   "metadata": {},
   "outputs": [
    {
     "output_type": "stream",
     "name": "stdout",
     "text": [
      "4\n0\n6\n"
     ]
    }
   ],
   "source": [
    "# https://leetcode.com/contest/weekly-contest-237/problems/maximum-ice-cream-bars/\n",
    "def maxIceCream(costs, coins):\n",
    "    sorted_costs = sorted(costs)\n",
    "    #print(sorted_costs)\n",
    "    result = 0\n",
    "    for c in sorted_costs:\n",
    "        if coins > 0 and coins >= c:\n",
    "            coins -= c\n",
    "            result += 1\n",
    "    return result\n",
    "print(maxIceCream(costs = [1,3,2,4,1], coins = 7))\n",
    "print(maxIceCream(costs = [10,6,8,7,7,8], coins = 5))\n",
    "print(maxIceCream(costs = [1,6,3,1,2,5], coins = 20))"
   ]
  },
  {
   "cell_type": "code",
   "execution_count": null,
   "metadata": {},
   "outputs": [],
   "source": []
  }
 ]
}