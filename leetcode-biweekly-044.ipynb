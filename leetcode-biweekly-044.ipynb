{
 "cells": [
  {
   "cell_type": "code",
   "execution_count": 3,
   "metadata": {},
   "outputs": [
    {
     "name": "stdout",
     "output_type": "stream",
     "text": [
      "1\n",
      "0\n"
     ]
    }
   ],
   "source": [
    "# https://leetcode.com/contest/biweekly-contest-44/problems/find-the-highest-altitude/\n",
    "def largestAltitude(gain):\n",
    "    alt = 0\n",
    "    highest = 0\n",
    "    for val in gain:\n",
    "        alt += val\n",
    "        if alt > highest:\n",
    "            highest = alt\n",
    "    return highest\n",
    "print(largestAltitude([-5,1,5,0,-7]))\n",
    "print(largestAltitude([-4,-3,-2,-1,4,3,2]))"
   ]
  },
  {
   "cell_type": "code",
   "execution_count": 15,
   "metadata": {},
   "outputs": [
    {
     "name": "stdout",
     "output_type": "stream",
     "text": [
      "2\n",
      "[]\n"
     ]
    }
   ],
   "source": [
    "# https://leetcode.com/explore/featured/card/january-leetcoding-challenge-2021/582/week-4-january-22nd-january-28th/3614/\n",
    "def diagonalSort(mat):\n",
    "    ary = []\n",
    "    result = []\n",
    "    return result\n",
    "print(diagonalSort([[3,3,1,1],[2,2,1,2],[1,1,1,2]]))\n",
    "    "
   ]
  },
  {
   "cell_type": "code",
   "execution_count": null,
   "metadata": {},
   "outputs": [],
   "source": []
  }
 ],
 "metadata": {
  "kernelspec": {
   "display_name": "Python 3",
   "language": "python",
   "name": "python3"
  },
  "language_info": {
   "codemirror_mode": {
    "name": "ipython",
    "version": 3
   },
   "file_extension": ".py",
   "mimetype": "text/x-python",
   "name": "python",
   "nbconvert_exporter": "python",
   "pygments_lexer": "ipython3",
   "version": "3.7.6"
  }
 },
 "nbformat": 4,
 "nbformat_minor": 4
}
