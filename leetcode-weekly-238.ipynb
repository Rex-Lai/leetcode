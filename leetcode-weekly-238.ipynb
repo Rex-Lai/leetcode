{
 "metadata": {
  "language_info": {
   "codemirror_mode": {
    "name": "ipython",
    "version": 3
   },
   "file_extension": ".py",
   "mimetype": "text/x-python",
   "name": "python",
   "nbconvert_exporter": "python",
   "pygments_lexer": "ipython3",
   "version": "3.8.5"
  },
  "orig_nbformat": 2,
  "kernelspec": {
   "name": "python385jvsc74a57bd0d272e2026838bb335172dbce7a4df8d70283680680035739ed330613b545d8bd",
   "display_name": "Python 3.8.5 64-bit ('base': conda)"
  }
 },
 "nbformat": 4,
 "nbformat_minor": 2,
 "cells": [
  {
   "cell_type": "code",
   "execution_count": 12,
   "metadata": {},
   "outputs": [
    {
     "output_type": "stream",
     "name": "stdout",
     "text": [
      "9\n1\n"
     ]
    }
   ],
   "source": [
    "# https://leetcode.com/contest/weekly-contest-238/problems/sum-of-digits-in-base-k/\n",
    "def sumBase(n, k):\n",
    "    if n == 0:\n",
    "        return [0]\n",
    "    digits = []\n",
    "    while n:\n",
    "        digits.append(int(n % k))\n",
    "        n //= k\n",
    "    return sum(digits[::-1])\n",
    "print(sumBase(34, 6))\n",
    "print(sumBase(10, 10))"
   ]
  },
  {
   "cell_type": "code",
   "execution_count": 62,
   "metadata": {},
   "outputs": [
    {
     "output_type": "stream",
     "name": "stdout",
     "text": [
      "5\n"
     ]
    }
   ],
   "source": [
    "# https://leetcode.com/contest/weekly-contest-238/problems/longest-substring-of-all-vowels-in-order/\n",
    "def longestBeautifulSubstring(word):\n",
    "    word += 'a'\n",
    "    currLen = 1\n",
    "    maxLen = 0\n",
    "    vow = set()\n",
    "    for idx in range(1, len(word)):\n",
    "        if word[idx-1] not in vow:\n",
    "            vow.update(word[idx-1])\n",
    "        if word[idx] >= word[idx-1]:\n",
    "            currLen += 1\n",
    "        else:\n",
    "            #print(word[idx-1],word[idx])\n",
    "            if currLen > maxLen and len(vow) == 5:\n",
    "                maxLen = currLen\n",
    "            currLen = 1\n",
    "            vow = set()\n",
    "    return maxLen\n",
    "#print(longestBeautifulSubstring(\"aeiaaioaaaaeiiiiouuuooaauuaeiu\"))\n",
    "print(longestBeautifulSubstring(\"aeiou\"))"
   ]
  },
  {
   "cell_type": "code",
   "execution_count": null,
   "metadata": {},
   "outputs": [],
   "source": []
  }
 ]
}