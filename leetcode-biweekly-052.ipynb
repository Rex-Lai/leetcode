{
 "cells": [
  {
   "cell_type": "code",
   "execution_count": 8,
   "metadata": {},
   "outputs": [
    {
     "name": "stdout",
     "output_type": "stream",
     "text": [
      "This is a sentence\n"
     ]
    }
   ],
   "source": [
    "# https://leetcode.com/contest/biweekly-contest-52/problems/sorting-the-sentence/\n",
    "def sortSentence(s):\n",
    "    tmpSent = s.split(' ')\n",
    "    tmpSent2 = []\n",
    "    for w in tmpSent:\n",
    "        tmpSent2.append([w[:len(w)-1], w[-1]])\n",
    "    result = []\n",
    "    for w in sorted(tmpSent2, key=lambda tmpSent2: tmpSent2[1]):\n",
    "        result.append(w[0])\n",
    "    return ' '.join(result)\n",
    "print(sortSentence(\"is2 sentence4 This1 a3\"))"
   ]
  },
  {
   "cell_type": "code",
   "execution_count": null,
   "metadata": {},
   "outputs": [],
   "source": []
  }
 ],
 "metadata": {
  "kernelspec": {
   "display_name": "Python 3",
   "language": "python",
   "name": "python3"
  },
  "language_info": {
   "codemirror_mode": {
    "name": "ipython",
    "version": 3
   },
   "file_extension": ".py",
   "mimetype": "text/x-python",
   "name": "python",
   "nbconvert_exporter": "python",
   "pygments_lexer": "ipython3",
   "version": "3.6.5"
  }
 },
 "nbformat": 4,
 "nbformat_minor": 2
}
