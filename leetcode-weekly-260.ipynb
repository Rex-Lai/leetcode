{
 "cells": [
  {
   "cell_type": "code",
   "execution_count": 4,
   "source": [
    "def maximumDifference(nums):\r\n",
    "    result = -1\r\n",
    "    for i in range(0, len(nums)):\r\n",
    "        for j in range(i, len(nums)):\r\n",
    "            if nums[j] > nums[i]:\r\n",
    "                temp = nums[j] - nums[i]\r\n",
    "                if temp > result:\r\n",
    "                    result = temp\r\n",
    "    return result\r\n",
    "print(maximumDifference(nums = [7,1,5,4]))\r\n",
    "print(maximumDifference(nums = [9,4,3,2]))\r\n",
    "print(maximumDifference(nums = [1,5,2,10]))"
   ],
   "outputs": [
    {
     "output_type": "stream",
     "name": "stdout",
     "text": [
      "4\n",
      "-1\n",
      "9\n"
     ]
    }
   ],
   "metadata": {}
  }
 ],
 "metadata": {
  "orig_nbformat": 4,
  "language_info": {
   "name": "python",
   "version": "3.8.8",
   "mimetype": "text/x-python",
   "codemirror_mode": {
    "name": "ipython",
    "version": 3
   },
   "pygments_lexer": "ipython3",
   "nbconvert_exporter": "python",
   "file_extension": ".py"
  },
  "kernelspec": {
   "name": "python3",
   "display_name": "Python 3.8.8 64-bit ('base': conda)"
  },
  "interpreter": {
   "hash": "d272e2026838bb335172dbce7a4df8d70283680680035739ed330613b545d8bd"
  }
 },
 "nbformat": 4,
 "nbformat_minor": 2
}