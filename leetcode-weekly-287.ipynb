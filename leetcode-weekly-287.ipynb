{
 "cells": [
  {
   "cell_type": "code",
   "execution_count": 21,
   "id": "173597e6-d0d9-4acd-b04d-008a9f8de0d4",
   "metadata": {},
   "outputs": [
    {
     "name": "stdout",
     "output_type": "stream",
     "text": [
      "3\n",
      "1\n",
      "32\n"
     ]
    }
   ],
   "source": [
    "# https://leetcode.com/contest/weekly-contest-287/problems/minimum-number-of-operations-to-convert-time/\n",
    "from datetime import datetime\n",
    "\n",
    "class Solution:\n",
    "    def convertTime(self, current: str, correct: str) -> int:\n",
    "        result = 0\n",
    "        minutes_type = [15, 5, 1]\n",
    "        current_time = datetime.strptime(current, '%H:%M')\n",
    "        correct_time = datetime.strptime(correct, '%H:%M')\n",
    "        diff = correct_time - current_time\n",
    "        diff_str = str(diff)\n",
    "        diff_ary = diff_str.split(':')\n",
    "        result += int(diff_ary[0])\n",
    "        minutes = int(diff_ary[1])\n",
    "        for t in minutes_type:\n",
    "            ops = minutes//t\n",
    "            result += ops\n",
    "            minutes = minutes - (ops*t)\n",
    "        return result\n",
    "    \n",
    "s = Solution()    \n",
    "print(s.convertTime('02:30','04:35'))\n",
    "print(s.convertTime('11:00','11:01'))\n",
    "print(s.convertTime('00:00','23:59'))"
   ]
  },
  {
   "cell_type": "code",
   "execution_count": 31,
   "id": "c6a90f37-810f-427e-9763-293ff28f3504",
   "metadata": {},
   "outputs": [
    {
     "name": "stdout",
     "output_type": "stream",
     "text": [
      "[[1, 2, 10], [4, 5, 7, 8]]\n",
      "[[1, 2, 5, 6], []]\n"
     ]
    }
   ],
   "source": [
    "# https://leetcode.com/contest/weekly-contest-287/problems/find-players-with-zero-or-one-losses/\n",
    "# version 1\n",
    "from typing import List\n",
    "\n",
    "class Solution:\n",
    "    def findWinners(self, matches: List[List[int]]) -> List[List[int]]:\n",
    "        winner = []\n",
    "        loser = {}\n",
    "        for m in matches:\n",
    "            if m[0] not in winner:\n",
    "                winner.append(m[0])\n",
    "            if m[1] not in loser:\n",
    "                loser.update({m[1]:1})\n",
    "            else:\n",
    "                loser.update({m[1]:loser[m[1]]+1})\n",
    "        no_lose = []\n",
    "        for w in winner:\n",
    "            if w not in loser.keys():\n",
    "                no_lose.append(w)\n",
    "        lose_one = []\n",
    "        for l in loser.keys():\n",
    "            if loser[l] == 1:\n",
    "                lose_one.append(l)\n",
    "                \n",
    "        return[sorted(no_lose), sorted(lose_one)]\n",
    "        \n",
    "s = Solution()\n",
    "print(s.findWinners([[1,3],[2,3],[3,6],[5,6],[5,7],[4,5],[4,8],[4,9],[10,4],[10,9]]))\n",
    "print(s.findWinners([[2,3],[1,3],[5,4],[6,4]]))"
   ]
  },
  {
   "cell_type": "code",
   "execution_count": 9,
   "id": "3b86ab5c-02a8-41de-a28e-de33fca1f0c6",
   "metadata": {},
   "outputs": [
    {
     "data": {
      "text/plain": [
       "[[1, 2, 10], [5, 7, 4, 8]]"
      ]
     },
     "execution_count": 9,
     "metadata": {},
     "output_type": "execute_result"
    }
   ],
   "source": [
    "# https://leetcode.com/contest/weekly-contest-287/problems/find-players-with-zero-or-one-losses/\n",
    "# version 2\n",
    "from typing import List\n",
    "\n",
    "class Solution:\n",
    "    def findWinners(self, matches: List[List[int]]) -> List[List[int]]:\n",
    "        winners, losers, table = [], [], {}\n",
    "        for winner, loser in matches:\n",
    "            table[winner] = table.get(winner, 0)\n",
    "            table[loser]  = table.get(loser, 0) + 1\n",
    "        for k, v in table.items():\n",
    "            if v == 0:\n",
    "                winners.append(k)\n",
    "            if v == 1:\n",
    "                losers.append(k)\n",
    "        return [sorted(winners), sorted(losers)]\n",
    "        \n",
    "s = Solution()\n",
    "s.findWinners([[1,3],[2,3],[3,6],[5,6],[5,7],[4,5],[4,8],[4,9],[10,4],[10,9]])"
   ]
  },
  {
   "cell_type": "code",
   "execution_count": null,
   "id": "13e266c2-87f1-4a42-98fe-7a1b70f2d4d7",
   "metadata": {},
   "outputs": [],
   "source": []
  }
 ],
 "metadata": {
  "kernelspec": {
   "display_name": "Python 3 (ipykernel)",
   "language": "python",
   "name": "python3"
  },
  "language_info": {
   "codemirror_mode": {
    "name": "ipython",
    "version": 3
   },
   "file_extension": ".py",
   "mimetype": "text/x-python",
   "name": "python",
   "nbconvert_exporter": "python",
   "pygments_lexer": "ipython3",
   "version": "3.9.7"
  }
 },
 "nbformat": 4,
 "nbformat_minor": 5
}
