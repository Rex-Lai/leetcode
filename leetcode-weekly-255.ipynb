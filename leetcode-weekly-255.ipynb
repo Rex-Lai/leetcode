{
 "cells": [
  {
   "cell_type": "code",
   "execution_count": 5,
   "id": "17d94ed4-0a99-441d-b479-942ba2da02b7",
   "metadata": {},
   "outputs": [
    {
     "name": "stdout",
     "output_type": "stream",
     "text": [
      "10 2\n",
      "2\n",
      "8 3\n",
      "1\n",
      "3 3\n",
      "3\n"
     ]
    }
   ],
   "source": [
    "# https://leetcode.com/contest/weekly-contest-255/problems/find-greatest-common-divisor-of-array/\n",
    "import math\n",
    "def findGCD(nums):\n",
    "    s_nums = sorted(nums)\n",
    "    largest = s_nums[-1]\n",
    "    smallest = s_nums[0]\n",
    "    return math.gcd(smallest, largest)\n",
    "print(findGCD(nums = [2,5,6,9,10]))\n",
    "print(findGCD(nums = [7,5,6,8,3]))\n",
    "print(findGCD(nums = [3,3]))"
   ]
  },
  {
   "cell_type": "code",
   "execution_count": 19,
   "id": "ab4a536e-4b4f-4249-b508-9c3604d93c8a",
   "metadata": {},
   "outputs": [
    {
     "name": "stdout",
     "output_type": "stream",
     "text": [
      "00\n",
      "000\n",
      "10\n"
     ]
    }
   ],
   "source": [
    "# https://leetcode.com/contest/weekly-contest-255/problems/find-unique-binary-string/\n",
    "def findDifferentBinaryString(nums):\n",
    "    length_str = \"{0:0\" + str(len(nums[0])) + \"b}\"\n",
    "    max_num = 2 ** len(nums[0])\n",
    "    for v in range(0, max_num):\n",
    "        current = length_str.format(int(v))\n",
    "        if current not in nums:\n",
    "            return current\n",
    "    return None\n",
    "print(findDifferentBinaryString(nums = [\"01\",\"10\"]))\n",
    "print(findDifferentBinaryString(nums = [\"111\",\"011\",\"001\"]))\n",
    "print(findDifferentBinaryString(nums = [\"00\", \"01\"]))"
   ]
  },
  {
   "cell_type": "code",
   "execution_count": null,
   "id": "2791e76f-4340-4e5d-9201-35d84b372b2a",
   "metadata": {},
   "outputs": [],
   "source": []
  }
 ],
 "metadata": {
  "kernelspec": {
   "display_name": "Python 3",
   "language": "python",
   "name": "python3"
  },
  "language_info": {
   "codemirror_mode": {
    "name": "ipython",
    "version": 3
   },
   "file_extension": ".py",
   "mimetype": "text/x-python",
   "name": "python",
   "nbconvert_exporter": "python",
   "pygments_lexer": "ipython3",
   "version": "3.8.8"
  }
 },
 "nbformat": 4,
 "nbformat_minor": 5
}
