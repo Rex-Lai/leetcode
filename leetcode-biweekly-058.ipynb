{
 "cells": [
  {
   "cell_type": "code",
   "execution_count": 6,
   "id": "fd807e82-88fc-4679-8278-85b7e8d9f7bd",
   "metadata": {},
   "outputs": [
    {
     "name": "stdout",
     "output_type": "stream",
     "text": [
      "leetcode\n",
      "aabaa\n",
      "aab\n"
     ]
    }
   ],
   "source": [
    "# https://leetcode.com/contest/biweekly-contest-58/problems/delete-characters-to-make-fancy-string/\n",
    "def makeFancyString(s):\n",
    "    result = []\n",
    "    cnt = 1\n",
    "    for idx in range(0, len(s)):\n",
    "        if idx == 0:\n",
    "            result.append(s[idx])\n",
    "            continue\n",
    "        if s[idx] == s[idx-1]:\n",
    "            cnt += 1\n",
    "        else:\n",
    "            cnt = 1\n",
    "        if cnt > 2:\n",
    "            continue\n",
    "        else:\n",
    "            result.append(s[idx])\n",
    "    return ''.join(result)\n",
    "print(makeFancyString(s = \"leeetcode\"))\n",
    "print(makeFancyString(s = \"aaabaaaa\"))\n",
    "print(makeFancyString(s = \"aab\"))"
   ]
  },
  {
   "cell_type": "code",
   "execution_count": null,
   "id": "b45d9f4c-ed21-4e6b-a375-67169bcb4ece",
   "metadata": {},
   "outputs": [],
   "source": []
  }
 ],
 "metadata": {
  "kernelspec": {
   "display_name": "Python 3",
   "language": "python",
   "name": "python3"
  },
  "language_info": {
   "codemirror_mode": {
    "name": "ipython",
    "version": 3
   },
   "file_extension": ".py",
   "mimetype": "text/x-python",
   "name": "python",
   "nbconvert_exporter": "python",
   "pygments_lexer": "ipython3",
   "version": "3.8.8"
  }
 },
 "nbformat": 4,
 "nbformat_minor": 5
}
