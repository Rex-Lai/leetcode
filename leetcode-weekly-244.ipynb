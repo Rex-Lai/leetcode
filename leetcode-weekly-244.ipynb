{
 "cells": [
  {
   "cell_type": "code",
   "execution_count": 14,
   "id": "8292072b-8b32-497f-b3b3-d5ab4e705027",
   "metadata": {},
   "outputs": [
    {
     "name": "stdout",
     "output_type": "stream",
     "text": [
      "True\n",
      "False\n",
      "True\n"
     ]
    }
   ],
   "source": [
    "# https://leetcode.com/contest/weekly-contest-244/problems/determine-whether-matrix-can-be-obtained-by-rotation/\n",
    "def findRotation(mat, target):\n",
    "    if checkMatrix(target, mat):\n",
    "        return True\n",
    "    rotated = list(zip(*mat))[::-1]\n",
    "    for idx in range(0,3):\n",
    "        if checkMatrix(target, rotated):\n",
    "            return True\n",
    "        rotated = list(zip(*rotated))[::-1]\n",
    "    return False\n",
    "def checkMatrix(m1, m2):\n",
    "    for i in range(0,len(m1[0])):\n",
    "        for j in range(0,len(m1[0])):\n",
    "            if (m1[i][j] != m2[i][j]):\n",
    "                return False\n",
    "    return True\n",
    "print(findRotation(mat = [[0,1],[1,0]], target = [[1,0],[0,1]]))\n",
    "print(findRotation(mat = [[0,1],[1,1]], target = [[1,0],[0,1]]))\n",
    "print(findRotation([[0,0,0],[0,1,0],[1,1,1]],[[1,1,1],[0,1,0],[0,0,0]]))"
   ]
  },
  {
   "cell_type": "code",
   "execution_count": null,
   "id": "1a976f92-78d8-4886-87e7-9e183bfcabc6",
   "metadata": {},
   "outputs": [],
   "source": []
  }
 ],
 "metadata": {
  "kernelspec": {
   "display_name": "Python 3",
   "language": "python",
   "name": "python3"
  },
  "language_info": {
   "codemirror_mode": {
    "name": "ipython",
    "version": 3
   },
   "file_extension": ".py",
   "mimetype": "text/x-python",
   "name": "python",
   "nbconvert_exporter": "python",
   "pygments_lexer": "ipython3",
   "version": "3.8.8"
  }
 },
 "nbformat": 4,
 "nbformat_minor": 5
}
