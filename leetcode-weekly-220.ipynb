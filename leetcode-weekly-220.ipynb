{
 "cells": [
  {
   "cell_type": "code",
   "execution_count": 31,
   "metadata": {},
   "outputs": [
    {
     "name": "stdout",
     "output_type": "stream",
     "text": [
      "1752293539475\n",
      "['175', '229', '353', '947', '5']\n",
      "175-229-353-94-75\n"
     ]
    }
   ],
   "source": [
    "# https://leetcode.com/contest/weekly-contest-220/problems/reformat-phone-number/\n",
    "def reformatNumber(number: str) -> str:\n",
    "    replaced_str = number.replace(' ','').replace('-','')\n",
    "    print(replaced_str)\n",
    "    str_len = len(replaced_str)\n",
    "    if str_len == 2:\n",
    "        return replaced_str\n",
    "    # group\n",
    "    result = []\n",
    "    for idx in range(len(replaced_str)):\n",
    "        if idx % 3 == 0:\n",
    "            prev_idx = idx\n",
    "            result.append(replaced_str[prev_idx:prev_idx+3])\n",
    "            idx+=3\n",
    "    #print(result)\n",
    "    last_one = result.pop()\n",
    "    last_two = ''\n",
    "    if len(last_one) == 1:\n",
    "        last_two = result.pop()\n",
    "        # case XX-XX\n",
    "        result.append(replaced_str[-4:-2] + '-' + replaced_str[-2:])\n",
    "    else:\n",
    "        result.append(last_one)\n",
    "    return '-'.join(result)\n",
    "\n",
    "#print(reformatNumber('1-23-45 6'))\n",
    "#print(reformatNumber('123 4-567'))\n",
    "#print(reformatNumber('12 '))\n",
    "#print(reformatNumber('123 4-5678'))\n",
    "print(reformatNumber(\"--17-5 229 35-39475 \"))"
   ]
  },
  {
   "cell_type": "code",
   "execution_count": 46,
   "metadata": {},
   "outputs": [
    {
     "name": "stdout",
     "output_type": "stream",
     "text": [
      "59\n",
      "56\n",
      "24864\n"
     ]
    }
   ],
   "source": [
    "# https://leetcode.com/contest/weekly-contest-220/problems/maximum-erasure-value/\n",
    "def maximumUniqueSubarray(nums):\n",
    "    result = list(set(nums))\n",
    "    return sum(result)\n",
    "\n",
    "#print(str(maximumUniqueSubarray([4,2,4,5,6])))\n",
    "print(maximumUniqueSubarray([187,470,25,436,538,809,441,167,477,110,275,133,666,345,411,459,490,266,987,965,429,166,809,340,467,318,125,165,809,610,31,585,970,306,42,189,169,743,78,810,70,382,367,490,787,670,476,278,775,673,299,19,893,817,971,458,409,886,434]))"
   ]
  },
  {
   "cell_type": "code",
   "execution_count": null,
   "metadata": {},
   "outputs": [],
   "source": []
  }
 ],
 "metadata": {
  "kernelspec": {
   "display_name": "Python 3",
   "language": "python",
   "name": "python3"
  },
  "language_info": {
   "codemirror_mode": {
    "name": "ipython",
    "version": 3
   },
   "file_extension": ".py",
   "mimetype": "text/x-python",
   "name": "python",
   "nbconvert_exporter": "python",
   "pygments_lexer": "ipython3",
   "version": "3.7.6"
  }
 },
 "nbformat": 4,
 "nbformat_minor": 4
}
