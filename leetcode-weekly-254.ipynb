{
 "cells": [
  {
   "cell_type": "code",
   "execution_count": 2,
   "id": "9791a60e-8208-41ae-a45e-186ff514d1e7",
   "metadata": {},
   "outputs": [
    {
     "name": "stdout",
     "output_type": "stream",
     "text": [
      "abc a 1\n",
      "abc abc 2\n",
      "abc bc 3\n",
      "3\n",
      "aaaaabbbbb a 1\n",
      "aaaaabbbbb b 2\n",
      "2\n"
     ]
    }
   ],
   "source": [
    "# https://leetcode.com/contest/weekly-contest-254/problems/number-of-strings-that-appear-as-substrings-in-word/\n",
    "def numOfStrings(patterns, word):\n",
    "    result = 0\n",
    "    for p in patterns:\n",
    "        if word.find(p) > -1:\n",
    "            result += 1\n",
    "            #print(word, p, result)\n",
    "    return result\n",
    "print(numOfStrings(patterns = [\"a\",\"abc\",\"bc\",\"d\"], word = \"abc\"))\n",
    "print(numOfStrings(patterns = [\"a\",\"b\",\"c\"], word = \"aaaaabbbbb\"))"
   ]
  },
  {
   "cell_type": "code",
   "execution_count": null,
   "id": "3b76f505-956f-4d0d-a020-32d1f45edf37",
   "metadata": {},
   "outputs": [],
   "source": []
  }
 ],
 "metadata": {
  "kernelspec": {
   "display_name": "Python 3",
   "language": "python",
   "name": "python3"
  },
  "language_info": {
   "codemirror_mode": {
    "name": "ipython",
    "version": 3
   },
   "file_extension": ".py",
   "mimetype": "text/x-python",
   "name": "python",
   "nbconvert_exporter": "python",
   "pygments_lexer": "ipython3",
   "version": "3.8.8"
  }
 },
 "nbformat": 4,
 "nbformat_minor": 5
}
