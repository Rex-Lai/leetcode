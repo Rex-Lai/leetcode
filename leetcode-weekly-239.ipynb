{
 "metadata": {
  "language_info": {
   "codemirror_mode": {
    "name": "ipython",
    "version": 3
   },
   "file_extension": ".py",
   "mimetype": "text/x-python",
   "name": "python",
   "nbconvert_exporter": "python",
   "pygments_lexer": "ipython3",
   "version": "3.8.5"
  },
  "orig_nbformat": 2,
  "kernelspec": {
   "name": "python385jvsc74a57bd0d272e2026838bb335172dbce7a4df8d70283680680035739ed330613b545d8bd",
   "display_name": "Python 3.8.5 64-bit (conda)"
  }
 },
 "nbformat": 4,
 "nbformat_minor": 2,
 "cells": [
  {
   "cell_type": "code",
   "execution_count": 21,
   "metadata": {},
   "outputs": [
    {
     "output_type": "stream",
     "name": "stdout",
     "text": [
      "1\n0\n0\n2\n1\n"
     ]
    }
   ],
   "source": [
    "# https://leetcode.com/contest/weekly-contest-239/problems/minimum-distance-to-the-target-element/\n",
    "def getMinDistance(nums, target, start):\n",
    "    result = -1\n",
    "    for idx in range(0, len(nums)):\n",
    "        if nums[idx] == target:\n",
    "            if result > abs(idx - start) or result == -1:\n",
    "                result = abs(idx - start)\n",
    "    return result\n",
    "print(getMinDistance([1,2,3,4,5], 5, 3))\n",
    "print(getMinDistance([1], 1, 0))\n",
    "print(getMinDistance([1,1,1,1,1], 1, 0))\n",
    "print(getMinDistance([5,3,6], 5, 2))\n",
    "print(getMinDistance([1,5,3,4,5], 5, 2))"
   ]
  },
  {
   "cell_type": "code",
   "execution_count": null,
   "metadata": {},
   "outputs": [],
   "source": []
  }
 ]
}