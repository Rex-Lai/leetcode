{
 "cells": [
  {
   "cell_type": "code",
   "execution_count": 1,
   "id": "d536a042-4007-4592-8085-28e6e86f59fa",
   "metadata": {},
   "outputs": [
    {
     "name": "stdout",
     "output_type": "stream",
     "text": [
      "True\n",
      "False\n"
     ]
    }
   ],
   "source": [
    "# https://leetcode.com/contest/weekly-contest-245/problems/redistribute-characters-to-make-all-strings-equal/\n",
    "def makeEqual(words):\n",
    "    length = len(words)\n",
    "    result = {}\n",
    "    tmp = ''.join(words)\n",
    "    tmpLst = []\n",
    "    tmpLst[:0] = tmp\n",
    "    for c in tmpLst:\n",
    "        if c not in result.keys():\n",
    "            result.update({c:1})\n",
    "        else:\n",
    "            result.update({c:result[c]+1})\n",
    "    #print(result)\n",
    "    # redistribution\n",
    "    resValue = list(result.values())\n",
    "    for elem in resValue:\n",
    "        if elem%length:\n",
    "            return False\n",
    "    return True\n",
    "#print(makeEqual(words = [\"abc\",\"aabc\",\"bc\"]))\n",
    "#print(makeEqual(words = [\"ab\",\"a\"]))\n",
    "#print(makeEqual(words = [\"a\", \"b\"]))\n",
    "print(makeEqual(words = [\"caaaaa\",\"aaaaaaaaa\",\"a\",\"bbb\",\"bbbbbbbbb\",\"bbb\",\"cc\",\"cccccccccccc\",\"ccccccc\",\"ccccccc\",\"cc\",\"cccc\",\"c\",\"cccccccc\",\"c\"]))\n",
    "print(makeEqual(words = [\"a\",\"bbbbbbbbbbbbbbbbbbbbbbbbbbb\",\"c\",\"d\",\"e\",\"f\",\"g\",\"h\",\"i\",\"j\",\"k\",\"l\",\"m\",\"n\",\"o\",\"p\",\"q\",\"r\",\"s\",\"t\",\"u\",\"v\",\"w\",\"x\",\"y\",\"z\"]))"
   ]
  },
  {
   "cell_type": "code",
   "execution_count": null,
   "id": "b6acdde3-cad6-48bb-8039-0c74ad0fed61",
   "metadata": {},
   "outputs": [],
   "source": []
  }
 ],
 "metadata": {
  "kernelspec": {
   "display_name": "Python 3",
   "language": "python",
   "name": "python3"
  },
  "language_info": {
   "codemirror_mode": {
    "name": "ipython",
    "version": 3
   },
   "file_extension": ".py",
   "mimetype": "text/x-python",
   "name": "python",
   "nbconvert_exporter": "python",
   "pygments_lexer": "ipython3",
   "version": "3.8.8"
  }
 },
 "nbformat": 4,
 "nbformat_minor": 5
}
