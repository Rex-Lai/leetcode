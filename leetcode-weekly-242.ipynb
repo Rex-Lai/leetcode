{
 "cells": [
  {
   "cell_type": "code",
   "execution_count": 6,
   "metadata": {},
   "outputs": [
    {
     "name": "stdout",
     "output_type": "stream",
     "text": [
      "True\n",
      "False\n",
      "False\n"
     ]
    }
   ],
   "source": [
    "# https://leetcode.com/contest/weekly-contest-242/problems/longer-contiguous-segments-of-ones-than-zeros/\n",
    "def checkZeroOnes(s):\n",
    "    maxlen = [0,0]\n",
    "    current = 1\n",
    "    for idx in range(0, len(s)-1):\n",
    "        if s[idx] == s[idx+1]:\n",
    "            current += 1\n",
    "        else:\n",
    "            if current > maxlen[int(s[idx])]:\n",
    "                maxlen[int(s[idx])] = current\n",
    "            current = 1\n",
    "    if current > maxlen[int(s[len(s)-1])]:\n",
    "        maxlen[int(s[len(s)-1])] = current\n",
    "    #print(maxlen[0], maxlen[1])\n",
    "    if maxlen[1] > maxlen[0]:\n",
    "        return True\n",
    "    return False\n",
    "print(checkZeroOnes(\"1101\"))\n",
    "print(checkZeroOnes(\"111000\"))\n",
    "print(checkZeroOnes(\"110100010\"))"
   ]
  },
  {
   "cell_type": "code",
   "execution_count": null,
   "metadata": {},
   "outputs": [],
   "source": [
    "# https://leetcode.com/contest/weekly-contest-242/problems/minimum-speed-to-arrive-on-time/\n"
   ]
  }
 ],
 "metadata": {
  "kernelspec": {
   "display_name": "Python 3",
   "language": "python",
   "name": "python3"
  },
  "language_info": {
   "codemirror_mode": {
    "name": "ipython",
    "version": 3
   },
   "file_extension": ".py",
   "mimetype": "text/x-python",
   "name": "python",
   "nbconvert_exporter": "python",
   "pygments_lexer": "ipython3",
   "version": "3.6.5"
  }
 },
 "nbformat": 4,
 "nbformat_minor": 2
}
