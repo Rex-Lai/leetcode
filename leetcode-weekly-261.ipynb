{
 "cells": [
  {
   "cell_type": "code",
   "execution_count": 20,
   "source": [
    "# https://leetcode.com/contest/weekly-contest-261/problems/minimum-moves-to-convert-string/\r\n",
    "def minimumMoves(s):\r\n",
    "    result = 0\r\n",
    "    # find first 'X'\r\n",
    "    try:\r\n",
    "        start = s.index('O')\r\n",
    "    except Exception as err:\r\n",
    "        start = 2\r\n",
    "    if start > 2:\r\n",
    "        start = 2\r\n",
    "    for idx in range(start, len(s), 3):\r\n",
    "        s_idx = 0\r\n",
    "        if idx-3 < 0:\r\n",
    "            s_idx = 0\r\n",
    "        else:\r\n",
    "            s_idx = idx-3\r\n",
    "        if 'X' in s[s_idx:idx]:\r\n",
    "            result += 1\r\n",
    "        print(idx, result)\r\n",
    "    if idx+1 < len(s):\r\n",
    "        if 'X' in s[idx+1-3:]:\r\n",
    "            result += 1\r\n",
    "    return result\r\n",
    "#rint(minimumMoves(s = \"XXX\"))\r\n",
    "#print(minimumMoves(s = \"XXOX\"))\r\n",
    "#print(minimumMoves(s = \"OOOO\"))\r\n",
    "#print(minimumMoves(s = \"OXOX\"))\r\n",
    "print(minimumMoves(s = \"XXOXXXOO\"))"
   ],
   "outputs": [
    {
     "output_type": "stream",
     "name": "stdout",
     "text": [
      "2 1\n",
      "5 2\n",
      "3\n"
     ]
    }
   ],
   "metadata": {}
  }
 ],
 "metadata": {
  "orig_nbformat": 4,
  "language_info": {
   "name": "python",
   "version": "3.8.8",
   "mimetype": "text/x-python",
   "codemirror_mode": {
    "name": "ipython",
    "version": 3
   },
   "pygments_lexer": "ipython3",
   "nbconvert_exporter": "python",
   "file_extension": ".py"
  },
  "kernelspec": {
   "name": "python3",
   "display_name": "Python 3.8.8 64-bit ('base': conda)"
  },
  "interpreter": {
   "hash": "d272e2026838bb335172dbce7a4df8d70283680680035739ed330613b545d8bd"
  }
 },
 "nbformat": 4,
 "nbformat_minor": 2
}