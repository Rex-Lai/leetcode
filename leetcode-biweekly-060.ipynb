{
 "cells": [
  {
   "cell_type": "code",
   "execution_count": null,
   "source": [
    "# https://leetcode.com/contest/biweekly-contest-60/problems/find-the-middle-index-in-array/\r\n",
    "def findMiddleIndex(nums):"
   ],
   "outputs": [],
   "metadata": {}
  }
 ],
 "metadata": {
  "orig_nbformat": 4,
  "language_info": {
   "name": "python",
   "version": "3.8.8"
  },
  "kernelspec": {
   "name": "python3",
   "display_name": "Python 3.8.8 64-bit ('base': conda)"
  },
  "interpreter": {
   "hash": "d272e2026838bb335172dbce7a4df8d70283680680035739ed330613b545d8bd"
  }
 },
 "nbformat": 4,
 "nbformat_minor": 2
}