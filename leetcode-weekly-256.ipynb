{
 "cells": [
  {
   "cell_type": "code",
   "execution_count": 34,
   "id": "e5ca1797-15ce-4ccf-b1bd-9f663540d137",
   "metadata": {},
   "outputs": [
    {
     "name": "stdout",
     "output_type": "stream",
     "text": [
      "1428\n"
     ]
    }
   ],
   "source": [
    "# https://leetcode.com/contest/weekly-contest-256/problems/minimum-difference-between-highest-and-lowest-of-k-scores/\n",
    "from itertools import combinations\n",
    "def minimumDifference(nums, k):\n",
    "    comb = combinations(nums, k)\n",
    "    result = -1\n",
    "    for i in list(comb):\n",
    "        diff = max(i) - min(i)\n",
    "        if result < 0 or result > diff:\n",
    "            result = diff\n",
    "        #print(i, len(i), \"max=\", max(i), \"min=\", min(i), \"result=\", result)\n",
    "    return result\n",
    "#print(minimumDifference(nums = [90], k = 1))\n",
    "#print(minimumDifference(nums = [9,4,1,7], k = 2))\n",
    "print(minimumDifference([41900,69441,94407,37498,20299,10856,36221,2231,54526,79072,84309,76765,92282,13401,44698,17586,98455,47895,98889,65298,32271,23801,83153,12186,7453,79460,67209,54576,87785,47738,40750,31265,77990,93502,50364,75098,11712,80013,24193,35209,56300,85735,3590,24858,6780,50086,87549,7413,90444,12284,44970,39274,81201,43353,75808,14508,17389,10313,90055,43102,18659,20802,70315,48843,12273,78876,36638,17051,20478], 5))"
   ]
  },
  {
   "cell_type": "code",
   "execution_count": 36,
   "id": "8cc2e4a7-a319-4409-bbd4-7798847e69d4",
   "metadata": {},
   "outputs": [
    {
     "name": "stdout",
     "output_type": "stream",
     "text": [
      "1428\n"
     ]
    }
   ],
   "source": [
    "# https://leetcode.com/contest/weekly-contest-256/problems/minimum-difference-between-highest-and-lowest-of-k-scores/\n",
    "def n_length_combo(lst, n):\n",
    "    if n == 0:\n",
    "        return [[]]\n",
    "    l =[]\n",
    "    for i in range(0, len(lst)):\n",
    "        m = lst[i]\n",
    "        remLst = lst[i + 1:]\n",
    "        for p in n_length_combo(remLst, n-1):\n",
    "            l.append([m]+p)  \n",
    "    return l\n",
    "def minimumDifference(nums, k):\n",
    "    comb = n_length_combo(nums, k)\n",
    "    result = -1\n",
    "    for i in comb:\n",
    "        diff = max(i) - min(i)\n",
    "        if result < 0 or result > diff:\n",
    "            result = diff\n",
    "        #print(i, len(i), \"max=\", max(i), \"min=\", min(i), \"result=\", result)\n",
    "    return result\n",
    "#print(minimumDifference(nums = [90], k = 1))\n",
    "#print(minimumDifference(nums = [9,4,1,7], k = 2))\n",
    "print(minimumDifference([41900,69441,94407,37498,20299,10856,36221,2231,54526,79072,84309,76765,92282,13401,44698,17586,98455,47895,98889,65298,32271,23801,83153,12186,7453,79460,67209,54576,87785,47738,40750,31265,77990,93502,50364,75098,11712,80013,24193,35209,56300,85735,3590,24858,6780,50086,87549,7413,90444,12284,44970,39274,81201,43353,75808,14508,17389,10313,90055,43102,18659,20802,70315,48843,12273,78876,36638,17051,20478], 5))"
   ]
  },
  {
   "cell_type": "code",
   "execution_count": 31,
   "id": "217b2d30-dc62-4550-9801-b9ff82c33916",
   "metadata": {},
   "outputs": [
    {
     "name": "stdout",
     "output_type": "stream",
     "text": [
      "11\n"
     ]
    }
   ],
   "source": [
    "# https://leetcode.com/contest/weekly-contest-256/problems/minimum-difference-between-highest-and-lowest-of-k-scores/\n",
    "import numpy\n",
    "def n_length_combo(iterable, r):\n",
    "    char = tuple(iterable)\n",
    "    n = len(char)\n",
    "    if r > n:\n",
    "        return\n",
    "    index = numpy.arange(r)\n",
    "    # retruns the first sequence \n",
    "    yield tuple(char[i] for i in index)\n",
    "    while True:\n",
    "        for i in reversed(range(r)):\n",
    "            if index[i] != i + n - r:\n",
    "                break\n",
    "        else:\n",
    "            return\n",
    "          \n",
    "        index[i] += 1\n",
    "          \n",
    "        for j in range(i + 1, r):\n",
    "              \n",
    "            index[j] = index[j-1] + 1\n",
    "        yield tuple(char[i] for i in index)\n",
    "def minimumDifference(nums, k):\n",
    "    comb = n_length_combo(nums, 5)\n",
    "    result = -1\n",
    "    for i in comb:\n",
    "        diff = max(i) - min(i)\n",
    "        if result < 0 or result > diff:\n",
    "            result = diff\n",
    "        #print(i, diff)\n",
    "    return result\n",
    "#print(minimumDifference(nums = [90], k = 1))\n",
    "#print(minimumDifference(nums = [9,4,1,7], k = 2))\n",
    "print(minimumDifference([41900,69441,94407,37498,20299,10856,36221,2231,54526,79072,84309,76765,92282,13401,44698,17586,98455,47895,98889,65298,32271,23801,83153,12186,7453,79460,67209,54576,87785,47738,40750,31265,77990,93502,50364,75098,11712,80013,24193,35209,56300,85735,3590,24858,6780,50086,87549,7413,90444,12284,44970,39274,81201,43353,75808,14508,17389,10313,90055,43102,18659,20802,70315,48843,12273,78876,36638,17051,20478], 5))"
   ]
  },
  {
   "cell_type": "code",
   "execution_count": 37,
   "id": "dd6bb268-d37d-4700-84ec-76bbda22e7cc",
   "metadata": {},
   "outputs": [
    {
     "name": "stdout",
     "output_type": "stream",
     "text": [
      "1428\n"
     ]
    }
   ],
   "source": [
    "def minimumDifference(nums, k):\n",
    "    nums.sort()\n",
    "    l, r = 0, k - 1\n",
    "    res = float(\"inf\")\n",
    "\n",
    "    while r < len(nums):\n",
    "        res = min(res, nums[r] - nums[l])\n",
    "        l, r = l + 1, r + 1\n",
    "    return res\n",
    "print(minimumDifference([41900,69441,94407,37498,20299,10856,36221,2231,54526,79072,84309,76765,92282,13401,44698,17586,98455,47895,98889,65298,32271,23801,83153,12186,7453,79460,67209,54576,87785,47738,40750,31265,77990,93502,50364,75098,11712,80013,24193,35209,56300,85735,3590,24858,6780,50086,87549,7413,90444,12284,44970,39274,81201,43353,75808,14508,17389,10313,90055,43102,18659,20802,70315,48843,12273,78876,36638,17051,20478], 5))"
   ]
  },
  {
   "cell_type": "code",
   "execution_count": null,
   "id": "fc3ab117-0e1a-4de3-a0ab-683d64017c09",
   "metadata": {},
   "outputs": [],
   "source": []
  }
 ],
 "metadata": {
  "kernelspec": {
   "display_name": "Python 3",
   "language": "python",
   "name": "python3"
  },
  "language_info": {
   "codemirror_mode": {
    "name": "ipython",
    "version": 3
   },
   "file_extension": ".py",
   "mimetype": "text/x-python",
   "name": "python",
   "nbconvert_exporter": "python",
   "pygments_lexer": "ipython3",
   "version": "3.8.8"
  }
 },
 "nbformat": 4,
 "nbformat_minor": 5
}
