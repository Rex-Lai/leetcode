{
 "cells": [
  {
   "cell_type": "code",
   "execution_count": 9,
   "id": "6e48a143-ba62-4cd4-bbe1-ddc297c42af8",
   "metadata": {},
   "outputs": [
    {
     "name": "stdout",
     "output_type": "stream",
     "text": [
      "5\n",
      "7\n",
      "34\n"
     ]
    }
   ],
   "source": [
    "# https://leetcode.com/contest/biweekly-contest-59/problems/minimum-time-to-type-word-using-special-typewriter/\n",
    "def minTimeToType(word):\n",
    "    seconds = 0\n",
    "    prev = 'a'\n",
    "    for c in word:\n",
    "        moves = abs(ord(c) - ord(prev))\n",
    "        if moves > 13:\n",
    "            moves = 26 - moves\n",
    "        seconds += moves\n",
    "        seconds += 1\n",
    "        prev = c\n",
    "    return seconds\n",
    "print(minTimeToType('abc'))\n",
    "print(minTimeToType('bza'))\n",
    "print(minTimeToType('zjpc'))"
   ]
  },
  {
   "cell_type": "code",
   "execution_count": null,
   "id": "533b1170-f817-4aac-b76c-f30af03814f9",
   "metadata": {},
   "outputs": [],
   "source": [
    "# https://leetcode.com/contest/biweekly-contest-59/problems/maximum-matrix-sum/\n"
   ]
  }
 ],
 "metadata": {
  "kernelspec": {
   "display_name": "Python 3",
   "language": "python",
   "name": "python3"
  },
  "language_info": {
   "codemirror_mode": {
    "name": "ipython",
    "version": 3
   },
   "file_extension": ".py",
   "mimetype": "text/x-python",
   "name": "python",
   "nbconvert_exporter": "python",
   "pygments_lexer": "ipython3",
   "version": "3.8.8"
  }
 },
 "nbformat": 4,
 "nbformat_minor": 5
}
