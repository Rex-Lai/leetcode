{
 "cells": [
  {
   "cell_type": "code",
   "execution_count": 7,
   "id": "d2a7ef26-f4f0-41a5-afd2-fcfbbdfe76a6",
   "metadata": {},
   "outputs": [
    {
     "name": "stdout",
     "output_type": "stream",
     "text": [
      "False\n",
      "True\n"
     ]
    }
   ],
   "source": [
    "# https://leetcode.com/contest/weekly-contest-252/problems/three-divisors/\n",
    "def isThree(n):\n",
    "    result = 0\n",
    "    for i in range(1, n+1):\n",
    "        if n % i == 0:\n",
    "            result += 1\n",
    "            #print(i)\n",
    "    #print('total=', result)\n",
    "    if result == 3:\n",
    "        return True\n",
    "    return False\n",
    "print(isThree(n = 2))\n",
    "print(isThree(n = 4))"
   ]
  },
  {
   "cell_type": "code",
   "execution_count": 20,
   "id": "a0e52182-7f66-44ee-9693-278a9848c0a4",
   "metadata": {},
   "outputs": [
    {
     "name": "stdout",
     "output_type": "stream",
     "text": [
      "[0, 5, 2]\n",
      "[0, 4, 2]\n",
      "[0, 4, 1]\n",
      "[3, 1]\n",
      "[3, 0]\n",
      "6\n"
     ]
    }
   ],
   "source": [
    "# *https://leetcode.com/contest/weekly-contest-252/problems/maximum-number-of-weeks-for-which-you-can-work/\n",
    "def numberOfWeeks(milestones):\n",
    "    result = 0\n",
    "    while len(milestones) > 1:\n",
    "        for i in range(0, len(milestones)):\n",
    "            milestones[i] -= 1\n",
    "            result += 1\n",
    "            print(milestones)\n",
    "        milestones.remove(0)\n",
    "    if milestones[0] > 0:\n",
    "        result += 1\n",
    "    return result\n",
    "print(numberOfWeeks([5,2,1]))"
   ]
  },
  {
   "cell_type": "code",
   "execution_count": null,
   "id": "b4373895-a784-4c8f-b86f-559623b6c271",
   "metadata": {},
   "outputs": [],
   "source": []
  }
 ],
 "metadata": {
  "kernelspec": {
   "display_name": "Python 3",
   "language": "python",
   "name": "python3"
  },
  "language_info": {
   "codemirror_mode": {
    "name": "ipython",
    "version": 3
   },
   "file_extension": ".py",
   "mimetype": "text/x-python",
   "name": "python",
   "nbconvert_exporter": "python",
   "pygments_lexer": "ipython3",
   "version": "3.8.8"
  }
 },
 "nbformat": 4,
 "nbformat_minor": 5
}
