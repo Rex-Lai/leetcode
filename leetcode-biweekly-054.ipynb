{
 "cells": [
  {
   "cell_type": "code",
   "execution_count": 3,
   "id": "40eecb27-4290-486e-aedc-4326d2212da7",
   "metadata": {},
   "outputs": [
    {
     "name": "stdout",
     "output_type": "stream",
     "text": [
      "True\n",
      "False\n"
     ]
    }
   ],
   "source": [
    "# https://leetcode.com/contest/biweekly-contest-54/problems/check-if-all-the-integers-in-a-range-are-covered/\n",
    "def isCovered(ranges, left, right):\n",
    "    result = 0\n",
    "    for r in ranges:\n",
    "        if left <= r[0] and r[1] <= right:\n",
    "            result += 1\n",
    "    if result > 0:\n",
    "        return True\n",
    "    else:\n",
    "        return False\n",
    "print(isCovered(ranges = [[1,2],[3,4],[5,6]], left = 2, right = 5))\n",
    "print(isCovered([[1,10],[10,20]], left = 21, right = 21))"
   ]
  },
  {
   "cell_type": "code",
   "execution_count": null,
   "id": "3cee6054-5617-4210-b422-624ac710645e",
   "metadata": {},
   "outputs": [],
   "source": [
    "# https://leetcode.com/contest/biweekly-contest-54/problems/find-the-student-that-will-replace-the-chalk/\n"
   ]
  }
 ],
 "metadata": {
  "kernelspec": {
   "display_name": "Python 3",
   "language": "python",
   "name": "python3"
  },
  "language_info": {
   "codemirror_mode": {
    "name": "ipython",
    "version": 3
   },
   "file_extension": ".py",
   "mimetype": "text/x-python",
   "name": "python",
   "nbconvert_exporter": "python",
   "pygments_lexer": "ipython3",
   "version": "3.8.8"
  }
 },
 "nbformat": 4,
 "nbformat_minor": 5
}
