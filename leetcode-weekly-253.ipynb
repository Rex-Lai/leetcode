{
 "cells": [
  {
   "cell_type": "code",
   "execution_count": 3,
   "id": "db323ca6-7cb2-48bd-9e72-f30fcb31d091",
   "metadata": {},
   "outputs": [
    {
     "name": "stdout",
     "output_type": "stream",
     "text": [
      "True\n",
      "False\n"
     ]
    }
   ],
   "source": [
    "# https://leetcode.com/contest/weekly-contest-253/problems/check-if-string-is-a-prefix-of-array/\n",
    "def isPrefixString(s, words):\n",
    "    prefix = ''.join(words)\n",
    "    if prefix.find(s) == 0:\n",
    "        return True\n",
    "    return False\n",
    "    \n",
    "print(isPrefixString(s = \"iloveleetcode\", words = [\"i\",\"love\",\"leetcode\",\"apples\"]))\n",
    "print(isPrefixString(s = \"iloveleetcode\", words = [\"apples\",\"i\",\"love\",\"leetcode\"]))"
   ]
  },
  {
   "cell_type": "code",
   "execution_count": 7,
   "id": "d58468e5-a5d5-4c44-892f-3c6032f97f9e",
   "metadata": {},
   "outputs": [
    {
     "name": "stdout",
     "output_type": "stream",
     "text": [
      "\n",
      "i\n",
      "ilove\n",
      "iloveleetcode\n",
      "True\n",
      "\n",
      "apples\n",
      "applesi\n",
      "applesilove\n",
      "applesiloveleetcode\n",
      "False\n",
      "\n",
      "z\n",
      "True\n"
     ]
    }
   ],
   "source": [
    "# https://leetcode.com/contest/weekly-contest-253/problems/check-if-string-is-a-prefix-of-array/\n",
    "def isPrefixString(s, words):\n",
    "    for i in range(0, len(words)+1):\n",
    "        prefix = []\n",
    "        for j in range(0, i):\n",
    "            prefix.append(words[j])\n",
    "        print(''.join(prefix))\n",
    "        if s == ''.join(prefix):\n",
    "            return True\n",
    "    return False\n",
    "print(isPrefixString(s = \"iloveleetcode\", words = [\"i\",\"love\",\"leetcode\",\"apples\"]))\n",
    "print(isPrefixString(s = \"iloveleetcode\", words = [\"apples\",\"i\",\"love\",\"leetcode\"]))\n",
    "print(isPrefixString(s = \"z\", words = [\"z\"]))"
   ]
  },
  {
   "cell_type": "code",
   "execution_count": null,
   "id": "e5e56879-a190-495e-bda8-560feb6f2148",
   "metadata": {},
   "outputs": [],
   "source": []
  }
 ],
 "metadata": {
  "kernelspec": {
   "display_name": "Python 3",
   "language": "python",
   "name": "python3"
  },
  "language_info": {
   "codemirror_mode": {
    "name": "ipython",
    "version": 3
   },
   "file_extension": ".py",
   "mimetype": "text/x-python",
   "name": "python",
   "nbconvert_exporter": "python",
   "pygments_lexer": "ipython3",
   "version": "3.8.8"
  }
 },
 "nbformat": 4,
 "nbformat_minor": 5
}
