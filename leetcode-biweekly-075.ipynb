{
 "cells": [
  {
   "cell_type": "code",
   "execution_count": 8,
   "id": "ffe06095-f8ad-436a-98e6-76e74deb1580",
   "metadata": {},
   "outputs": [
    {
     "name": "stdout",
     "output_type": "stream",
     "text": [
      "3\n",
      "3\n"
     ]
    }
   ],
   "source": [
    "# https://leetcode.com/contest/biweekly-contest-75/problems/minimum-bit-flips-to-convert-number/\n",
    "def minBitFlips(start, goal):\n",
    "    start_len = len(format(start, 'b'))\n",
    "    goal_len = len(format(goal, 'b'))\n",
    "    n = 0\n",
    "    if start_len > goal_len:\n",
    "        n = start_len\n",
    "    else:\n",
    "        n = goal_len\n",
    "    \n",
    "    start_str = format(start, 'b').zfill(n)\n",
    "    goal_str  = format(goal, 'b').zfill(n)\n",
    "    result = 0\n",
    "    for i in range(n):\n",
    "        if start_str[i] != goal_str[i]:\n",
    "            result += 1\n",
    "    return result\n",
    "\n",
    "print(minBitFlips(3, 4))\n",
    "print(minBitFlips(10, 7))"
   ]
  },
  {
   "cell_type": "code",
   "execution_count": 15,
   "id": "d72f7bec-9eca-47b2-a022-ddbd0176d181",
   "metadata": {},
   "outputs": [
    {
     "data": {
      "text/plain": [
       "5"
      ]
     },
     "execution_count": 15,
     "metadata": {},
     "output_type": "execute_result"
    }
   ],
   "source": [
    "# https://leetcode.com/contest/biweekly-contest-75/problems/find-triangular-sum-of-an-array/\n",
    "def triangularSum(nums):\n",
    "    result = nums\n",
    "    for i in range(len(nums), 0, -1):\n",
    "        for j in range(0, i-1):\n",
    "            result[j] = result[j] + result[j+1]\n",
    "            if result[j] >= 10:\n",
    "                result[j] = result[j] - 10\n",
    "            \n",
    "    return result[0]\n",
    "\n",
    "triangularSum([1,2,3,4,5])\n",
    "triangularSum([5])"
   ]
  },
  {
   "cell_type": "code",
   "execution_count": null,
   "id": "09d43e21-62e1-4e88-bb96-76787be5cf8b",
   "metadata": {},
   "outputs": [],
   "source": []
  }
 ],
 "metadata": {
  "kernelspec": {
   "display_name": "Python 3 (ipykernel)",
   "language": "python",
   "name": "python3"
  },
  "language_info": {
   "codemirror_mode": {
    "name": "ipython",
    "version": 3
   },
   "file_extension": ".py",
   "mimetype": "text/x-python",
   "name": "python",
   "nbconvert_exporter": "python",
   "pygments_lexer": "ipython3",
   "version": "3.9.7"
  }
 },
 "nbformat": 4,
 "nbformat_minor": 5
}
