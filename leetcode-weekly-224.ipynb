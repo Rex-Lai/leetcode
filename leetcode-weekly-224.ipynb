{
 "cells": [
  {
   "cell_type": "code",
   "execution_count": 8,
   "metadata": {},
   "outputs": [
    {
     "name": "stdout",
     "output_type": "stream",
     "text": [
      "[5, 3, 5, 5] 5\n",
      "3\n"
     ]
    }
   ],
   "source": [
    "# https://leetcode.com/contest/weekly-contest-224/problems/number-of-rectangles-that-can-form-the-largest-square/\n",
    "def countGoodRectangles(rectangles):\n",
    "    result = 0\n",
    "    recAry = []\n",
    "    maxLen = 0\n",
    "    for rec in rectangles:\n",
    "        if rec[1] < rec[0]:\n",
    "            recAry.append(rec[1])\n",
    "        else:\n",
    "            recAry.append(rec[0])\n",
    "        if recAry[len(recAry)-1] > maxLen:\n",
    "            maxLen = recAry[len(recAry)-1]\n",
    "    for r in recAry:\n",
    "        if r == maxLen:\n",
    "            result += 1\n",
    "    return result\n",
    "print(countGoodRectangles([[5,8],[3,9],[5,12],[16,5]]))\n"
   ]
  },
  {
   "cell_type": "code",
   "execution_count": 9,
   "metadata": {},
   "outputs": [
    {
     "name": "stdout",
     "output_type": "stream",
     "text": [
      "(2, 3, 4, 6)\n",
      "0\n"
     ]
    }
   ],
   "source": [
    "# https://leetcode.com/contest/weekly-contest-224/problems/tuple-with-same-product/\n",
    "import itertools\n",
    "def tupleSameProduct(nums):\n",
    "    result = 0\n",
    "    for n in itertools.combinations(nums, len(nums)):\n",
    "        print(n)\n",
    "    return result\n",
    "print(tupleSameProduct([2,3,4,6]))"
   ]
  },
  {
   "cell_type": "code",
   "execution_count": null,
   "metadata": {},
   "outputs": [],
   "source": []
  }
 ],
 "metadata": {
  "kernelspec": {
   "display_name": "Python 3",
   "language": "python",
   "name": "python3"
  },
  "language_info": {
   "codemirror_mode": {
    "name": "ipython",
    "version": 3
   },
   "file_extension": ".py",
   "mimetype": "text/x-python",
   "name": "python",
   "nbconvert_exporter": "python",
   "pygments_lexer": "ipython3",
   "version": "3.7.6"
  }
 },
 "nbformat": 4,
 "nbformat_minor": 4
}
