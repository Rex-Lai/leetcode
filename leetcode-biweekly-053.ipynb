{
 "cells": [
  {
   "cell_type": "code",
   "execution_count": null,
   "id": "a7325742-d591-43cf-9dcf-97a2453e6172",
   "metadata": {},
   "outputs": [],
   "source": [
    "# https://leetcode.com/contest/biweekly-contest-53/problems/substrings-of-size-three-with-distinct-characters/\n",
    "def countGoodSubstrings(s):\n",
    "    "
   ]
  }
 ],
 "metadata": {
  "kernelspec": {
   "display_name": "Python 3",
   "language": "python",
   "name": "python3"
  },
  "language_info": {
   "codemirror_mode": {
    "name": "ipython",
    "version": 3
   },
   "file_extension": ".py",
   "mimetype": "text/x-python",
   "name": "python",
   "nbconvert_exporter": "python",
   "pygments_lexer": "ipython3",
   "version": "3.8.8"
  }
 },
 "nbformat": 4,
 "nbformat_minor": 5
}
